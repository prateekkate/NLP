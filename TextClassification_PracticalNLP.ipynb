{
  "nbformat": 4,
  "nbformat_minor": 0,
  "metadata": {
    "colab": {
      "name": "TextClassification_PracticalNLP.ipynb",
      "provenance": [],
      "authorship_tag": "ABX9TyM90A3WspyNaddu2o+APd6t",
      "include_colab_link": true
    },
    "kernelspec": {
      "name": "python3",
      "display_name": "Python 3"
    },
    "language_info": {
      "name": "python"
    }
  },
  "cells": [
    {
      "cell_type": "markdown",
      "metadata": {
        "id": "view-in-github",
        "colab_type": "text"
      },
      "source": [
        "<a href=\"https://colab.research.google.com/github/prateekkate/NLP/blob/main/TextClassification_PracticalNLP.ipynb\" target=\"_parent\"><img src=\"https://colab.research.google.com/assets/colab-badge.svg\" alt=\"Open In Colab\"/></a>"
      ]
    },
    {
      "cell_type": "code",
      "metadata": {
        "id": "WPVaZxOTQqoA"
      },
      "source": [
        "import numpy as np\n",
        "import pandas as pd\n",
        "\n",
        "import matplotlib as mpl \n",
        "import matplotlib.cm as cm \n",
        "import matplotlib.pyplot as plt \n",
        "\n",
        "from sklearn.feature_extraction.text import CountVectorizer,TfidfVectorizer\n",
        "from sklearn.feature_extraction import stop_words\n",
        "\n",
        "#pre-processing of text\n",
        "import string\n",
        "import re\n",
        "\n",
        "#import classifiers from sklearn\n",
        "from sklearn.naive_bayes import MultinomialNB\n",
        "from sklearn.linear_model import LogisticRegression\n",
        "from sklearn.svm import LinearSVC\n",
        "\n",
        "from sklearn.metrics import recall_score as rs  \n",
        "from sklearn.metrics import precision_score as ps  \n",
        "from sklearn.metrics import f1_score as fs  \n",
        "from sklearn.metrics import balanced_accuracy_score as bas  \n",
        "from sklearn.metrics import confusion_matrix as cm  \n",
        "from sklearn.metrics import accuracy_score as acc"
      ],
      "execution_count": 116,
      "outputs": []
    },
    {
      "cell_type": "code",
      "metadata": {
        "colab": {
          "base_uri": "https://localhost:8080/"
        },
        "id": "GJEBIH8lRp2H",
        "outputId": "478171a8-cde4-46cf-cf15-6ce7227f061a"
      },
      "source": [
        "!wget -P DATAPATH https://raw.githubusercontent.com/practical-nlp/practical-nlp/master/Ch4/Data/Full-Economic-News-DFE-839861.csv\n",
        "!ls -lah DATAPATH"
      ],
      "execution_count": 2,
      "outputs": [
        {
          "output_type": "stream",
          "text": [
            "--2021-05-27 06:01:06--  https://raw.githubusercontent.com/practical-nlp/practical-nlp/master/Ch4/Data/Full-Economic-News-DFE-839861.csv\n",
            "Resolving raw.githubusercontent.com (raw.githubusercontent.com)... 185.199.108.133, 185.199.109.133, 185.199.110.133, ...\n",
            "Connecting to raw.githubusercontent.com (raw.githubusercontent.com)|185.199.108.133|:443... connected.\n",
            "HTTP request sent, awaiting response... 200 OK\n",
            "Length: 12383529 (12M) [text/plain]\n",
            "Saving to: ‘DATAPATH/Full-Economic-News-DFE-839861.csv.2’\n",
            "\n",
            "\r          Full-Econ   0%[                    ]       0  --.-KB/s               \r         Full-Econo  91%[=================>  ]  10.80M  53.9MB/s               \rFull-Economic-News- 100%[===================>]  11.81M  56.2MB/s    in 0.2s    \n",
            "\n",
            "2021-05-27 06:01:06 (56.2 MB/s) - ‘DATAPATH/Full-Economic-News-DFE-839861.csv.2’ saved [12383529/12383529]\n",
            "\n",
            "total 36M\n",
            "drwxr-xr-x 2 root root 4.0K May 27 06:01 .\n",
            "drwxr-xr-x 1 root root 4.0K May 27 05:35 ..\n",
            "-rw-r--r-- 1 root root  12M May 27 05:35 Full-Economic-News-DFE-839861.csv\n",
            "-rw-r--r-- 1 root root  12M May 27 05:59 Full-Economic-News-DFE-839861.csv.1\n",
            "-rw-r--r-- 1 root root  12M May 27 06:01 Full-Economic-News-DFE-839861.csv.2\n"
          ],
          "name": "stdout"
        }
      ]
    },
    {
      "cell_type": "code",
      "metadata": {
        "colab": {
          "base_uri": "https://localhost:8080/",
          "height": 102
        },
        "id": "5Up1Q8GhUhm6",
        "outputId": "f8939f72-2d61-434e-cc79-7578b1b47a0f"
      },
      "source": [
        "our_data = pd.read_csv(\"DATAPATH/Full-Economic-News-DFE-839861.csv\" , encoding = \"ISO-8859-1\" )\n",
        "\n",
        "display(our_data.shape) #Number of rows (instances) and columns in the dataset\n",
        "our_data[\"relevance\"].value_counts()/our_data.shape[0] #Class distribution in the dataset"
      ],
      "execution_count": 3,
      "outputs": [
        {
          "output_type": "display_data",
          "data": {
            "text/plain": [
              "(8000, 15)"
            ]
          },
          "metadata": {
            "tags": []
          }
        },
        {
          "output_type": "execute_result",
          "data": {
            "text/plain": [
              "no          0.821375\n",
              "yes         0.177500\n",
              "not sure    0.001125\n",
              "Name: relevance, dtype: float64"
            ]
          },
          "metadata": {
            "tags": []
          },
          "execution_count": 3
        }
      ]
    },
    {
      "cell_type": "code",
      "metadata": {
        "colab": {
          "base_uri": "https://localhost:8080/"
        },
        "id": "mr901ItCUuI3",
        "outputId": "dcafa0e4-1132-44f1-ccd9-6210183e0f3f"
      },
      "source": [
        "our_data = our_data[our_data.relevance!='not sure']\n",
        "our_data['relevance'] = our_data['relevance'].map({'yes':1, 'no':0})\n",
        "our_data = our_data[['text','relevance']]\n",
        "our_data.shape\n"
      ],
      "execution_count": 4,
      "outputs": [
        {
          "output_type": "execute_result",
          "data": {
            "text/plain": [
              "(7991, 2)"
            ]
          },
          "metadata": {
            "tags": []
          },
          "execution_count": 4
        }
      ]
    },
    {
      "cell_type": "code",
      "metadata": {
        "colab": {
          "base_uri": "https://localhost:8080/",
          "height": 204
        },
        "id": "6M1_7tWkVuqf",
        "outputId": "b43818f7-ee33-4989-e269-13a1eb059848"
      },
      "source": [
        "our_data.head()"
      ],
      "execution_count": 5,
      "outputs": [
        {
          "output_type": "execute_result",
          "data": {
            "text/html": [
              "<div>\n",
              "<style scoped>\n",
              "    .dataframe tbody tr th:only-of-type {\n",
              "        vertical-align: middle;\n",
              "    }\n",
              "\n",
              "    .dataframe tbody tr th {\n",
              "        vertical-align: top;\n",
              "    }\n",
              "\n",
              "    .dataframe thead th {\n",
              "        text-align: right;\n",
              "    }\n",
              "</style>\n",
              "<table border=\"1\" class=\"dataframe\">\n",
              "  <thead>\n",
              "    <tr style=\"text-align: right;\">\n",
              "      <th></th>\n",
              "      <th>text</th>\n",
              "      <th>relevance</th>\n",
              "    </tr>\n",
              "  </thead>\n",
              "  <tbody>\n",
              "    <tr>\n",
              "      <th>0</th>\n",
              "      <td>NEW YORK -- Yields on most certificates of dep...</td>\n",
              "      <td>1</td>\n",
              "    </tr>\n",
              "    <tr>\n",
              "      <th>1</th>\n",
              "      <td>The Wall Street Journal Online&lt;/br&gt;&lt;/br&gt;The Mo...</td>\n",
              "      <td>0</td>\n",
              "    </tr>\n",
              "    <tr>\n",
              "      <th>2</th>\n",
              "      <td>WASHINGTON -- In an effort to achieve banking ...</td>\n",
              "      <td>0</td>\n",
              "    </tr>\n",
              "    <tr>\n",
              "      <th>3</th>\n",
              "      <td>The statistics on the enormous costs of employ...</td>\n",
              "      <td>0</td>\n",
              "    </tr>\n",
              "    <tr>\n",
              "      <th>4</th>\n",
              "      <td>NEW YORK -- Indecision marked the dollar's ton...</td>\n",
              "      <td>1</td>\n",
              "    </tr>\n",
              "  </tbody>\n",
              "</table>\n",
              "</div>"
            ],
            "text/plain": [
              "                                                text  relevance\n",
              "0  NEW YORK -- Yields on most certificates of dep...          1\n",
              "1  The Wall Street Journal Online</br></br>The Mo...          0\n",
              "2  WASHINGTON -- In an effort to achieve banking ...          0\n",
              "3  The statistics on the enormous costs of employ...          0\n",
              "4  NEW YORK -- Indecision marked the dollar's ton...          1"
            ]
          },
          "metadata": {
            "tags": []
          },
          "execution_count": 5
        }
      ]
    },
    {
      "cell_type": "code",
      "metadata": {
        "id": "1Fk3UWugWWro"
      },
      "source": [
        "stopwords = stop_words.ENGLISH_STOP_WORDS\n",
        "def clean(doc): #doc is a string of text\n",
        "    doc = doc.replace(\"</br>\", \" \") #This text contains a lot of <br/> tags.\n",
        "    doc = \"\".join([char for char in doc if char not in string.punctuation and not char.isdigit()])\n",
        "    doc = \" \".join([token for token in doc.split() if token not in stopwords])\n",
        "    #remove punctuation and numbers\n",
        "    return doc"
      ],
      "execution_count": 6,
      "outputs": []
    },
    {
      "cell_type": "code",
      "metadata": {
        "id": "N4Gn2Hm8Yu1C"
      },
      "source": [
        "from sklearn.model_selection import train_test_split"
      ],
      "execution_count": 7,
      "outputs": []
    },
    {
      "cell_type": "code",
      "metadata": {
        "id": "DhqRQjvYY0hV"
      },
      "source": [
        "X = our_data.text\n",
        "y = our_data.relevance"
      ],
      "execution_count": 8,
      "outputs": []
    },
    {
      "cell_type": "code",
      "metadata": {
        "colab": {
          "base_uri": "https://localhost:8080/"
        },
        "id": "j20-uUfGY6KO",
        "outputId": "bf0694bf-5744-472b-eb15-3a15692af95f"
      },
      "source": [
        "X.shape , y.shape"
      ],
      "execution_count": 9,
      "outputs": [
        {
          "output_type": "execute_result",
          "data": {
            "text/plain": [
              "((7991,), (7991,))"
            ]
          },
          "metadata": {
            "tags": []
          },
          "execution_count": 9
        }
      ]
    },
    {
      "cell_type": "code",
      "metadata": {
        "id": "7-hdsTKMY82S"
      },
      "source": [
        "X_train , X_test, y_train, y_test = train_test_split(X,y,test_size=0.2,random_state=2,stratify=y)"
      ],
      "execution_count": 10,
      "outputs": []
    },
    {
      "cell_type": "code",
      "metadata": {
        "colab": {
          "base_uri": "https://localhost:8080/"
        },
        "id": "7IiNtSNBZNMe",
        "outputId": "5f0d540b-f145-4e9b-ac61-df520e707492"
      },
      "source": [
        "X_train.shape , X_test.shape, y_train.shape, y_test.shape"
      ],
      "execution_count": 11,
      "outputs": [
        {
          "output_type": "execute_result",
          "data": {
            "text/plain": [
              "((6392,), (1599,), (6392,), (1599,))"
            ]
          },
          "metadata": {
            "tags": []
          },
          "execution_count": 11
        }
      ]
    },
    {
      "cell_type": "code",
      "metadata": {
        "colab": {
          "base_uri": "https://localhost:8080/"
        },
        "id": "ZT66BLUDZTg0",
        "outputId": "c2727030-d28b-4d0d-a3bc-607f0da74901"
      },
      "source": [
        "vect = TfidfVectorizer(preprocessor=clean,max_features=5000)\n",
        "X_train_dtm = vect.fit_transform(X_train)\n",
        "X_test_dtm = vect.transform(X_test)\n",
        "print(X_train_dtm.shape, X_test_dtm.shape)"
      ],
      "execution_count": 132,
      "outputs": [
        {
          "output_type": "stream",
          "text": [
            "(6392, 5000) (1599, 5000)\n"
          ],
          "name": "stdout"
        }
      ]
    },
    {
      "cell_type": "code",
      "metadata": {
        "colab": {
          "base_uri": "https://localhost:8080/"
        },
        "id": "T1C6IDnxZtmG",
        "outputId": "103b3803-4e3d-449e-9bde-4b9486b0b518"
      },
      "source": [
        "nb = MultinomialNB(alpha=0) #instantiate a Multinomial Naive Bayes model\n",
        "%time nb.fit(X_train_dtm, y_train)#train the model(timing it with an IPython \"magic command\")\n",
        "predictions = nb.predict(X_test_dtm)"
      ],
      "execution_count": 133,
      "outputs": [
        {
          "output_type": "stream",
          "text": [
            "CPU times: user 8.12 ms, sys: 0 ns, total: 8.12 ms\n",
            "Wall time: 9.22 ms\n"
          ],
          "name": "stdout"
        },
        {
          "output_type": "stream",
          "text": [
            "/usr/local/lib/python3.7/dist-packages/sklearn/naive_bayes.py:507: UserWarning: alpha too small will result in numeric errors, setting alpha = 1.0e-10\n",
            "  'setting alpha = %.1e' % _ALPHA_MIN)\n"
          ],
          "name": "stderr"
        }
      ]
    },
    {
      "cell_type": "code",
      "metadata": {
        "colab": {
          "base_uri": "https://localhost:8080/"
        },
        "id": "pYLSTaq2aedn",
        "outputId": "ee0f998c-5875-40ba-8799-ee95b714d26e"
      },
      "source": [
        "recall = rs(y_test,predictions)  \n",
        "precision = ps(y_test,predictions)  \n",
        "r1 = fs(y_test,predictions)\n",
        "score = acc(y_test,predictions)\n",
        "print('Recall Score: ',recall)  \n",
        "print('Precision Score: ',precision)  \n",
        "print('F1 Score: ',r1) \n",
        "print('Accuracy:',score)"
      ],
      "execution_count": 134,
      "outputs": [
        {
          "output_type": "stream",
          "text": [
            "Recall Score:  0.30985915492957744\n",
            "Precision Score:  0.4251207729468599\n",
            "F1 Score:  0.3584521384928717\n",
            "Accuracy: 0.8030018761726079\n"
          ],
          "name": "stdout"
        }
      ]
    },
    {
      "cell_type": "code",
      "metadata": {
        "colab": {
          "base_uri": "https://localhost:8080/"
        },
        "id": "L9NhE6A2a-s9",
        "outputId": "b6f54778-e791-4aff-cf1f-3006c2c33e81"
      },
      "source": [
        "from sklearn.metrics import confusion_matrix\n",
        "tn, fp, fn, tp = confusion_matrix(y_test, predictions).ravel()\n",
        "specificity = tn / (tn+fp)\n",
        "sensitivity = tp / (tp+fn)\n",
        "print('Sensitivity: ',sensitivity)\n",
        "print('Specificity: ',specificity)\n",
        "print(tp)\n",
        "print(fp)"
      ],
      "execution_count": 135,
      "outputs": [
        {
          "output_type": "stream",
          "text": [
            "Sensitivity:  0.30985915492957744\n",
            "Specificity:  0.9095057034220533\n",
            "88\n",
            "119\n"
          ],
          "name": "stdout"
        }
      ]
    },
    {
      "cell_type": "code",
      "metadata": {
        "colab": {
          "base_uri": "https://localhost:8080/"
        },
        "id": "tWSRR7gbbe6_",
        "outputId": "932b2761-ec2a-4182-b370-a9c949b897df"
      },
      "source": [
        "from sklearn.metrics import roc_auc_score\n",
        "y_pred_prob = nb.predict_proba(X_test_dtm)[:, 1]\n",
        "print(\"ROC_AOC_Score: \", roc_auc_score(y_test, y_pred_prob))"
      ],
      "execution_count": 136,
      "outputs": [
        {
          "output_type": "stream",
          "text": [
            "ROC_AOC_Score:  0.7313340116746105\n"
          ],
          "name": "stdout"
        }
      ]
    },
    {
      "cell_type": "code",
      "metadata": {
        "id": "gkP2xi02bvFg"
      },
      "source": [
        "import matplotlib as mpl\n",
        "import matplotlib.pyplot as plt\n",
        "import seaborn as sns\n",
        "from sklearn.metrics import confusion_matrix"
      ],
      "execution_count": 137,
      "outputs": []
    },
    {
      "cell_type": "code",
      "metadata": {
        "id": "atX0bZ_RciCN"
      },
      "source": [
        "def plot_cm(labels, predictions, p=0.5):\n",
        "  cm = confusion_matrix(labels, predictions > p)\n",
        "  plt.figure(figsize=(5,5))\n",
        "  sns.heatmap(cm, annot=True, fmt=\"d\")\n",
        "  plt.title('Confusion matrix @{:.2f}'.format(p))\n",
        "  plt.ylabel('Actual label')\n",
        "  plt.xlabel('Predicted label')"
      ],
      "execution_count": 138,
      "outputs": []
    },
    {
      "cell_type": "code",
      "metadata": {
        "colab": {
          "base_uri": "https://localhost:8080/",
          "height": 350
        },
        "id": "myZtv2TWcxVU",
        "outputId": "3f499b10-b98e-4c10-9921-6eafe90a4c42"
      },
      "source": [
        "plot_cm(y_test, y_pred_prob)"
      ],
      "execution_count": 139,
      "outputs": [
        {
          "output_type": "display_data",
          "data": {
            "image/png": "[encoded data removed]",
            "text/plain": [
              "<Figure size 360x360 with 2 Axes>"
            ]
          },
          "metadata": {
            "tags": [],
            "needs_background": "light"
          }
        }
      ]
    },
    {
      "cell_type": "markdown",
      "metadata": {
        "id": "4MyxsvVpfdiO"
      },
      "source": [
        "#LR"
      ]
    },
    {
      "cell_type": "code",
      "metadata": {
        "id": "ry0tQacCfe41"
      },
      "source": [
        "from sklearn.linear_model import LogisticRegression #import\n",
        "\n",
        "logreg = LogisticRegression(C=200)"
      ],
      "execution_count": 140,
      "outputs": []
    },
    {
      "cell_type": "code",
      "metadata": {
        "colab": {
          "base_uri": "https://localhost:8080/"
        },
        "id": "8W41m3y3flwG",
        "outputId": "5c05283a-3d72-4a47-e47d-ca39d277782e"
      },
      "source": [
        "%time logreg.fit(X_train_dtm, y_train)#train the model(timing it with an IPython \"magic command\")\n",
        "predictions = logreg.predict(X_test_dtm)"
      ],
      "execution_count": 141,
      "outputs": [
        {
          "output_type": "stream",
          "text": [
            "CPU times: user 375 ms, sys: 4.05 ms, total: 379 ms\n",
            "Wall time: 385 ms\n"
          ],
          "name": "stdout"
        },
        {
          "output_type": "stream",
          "text": [
            "/usr/local/lib/python3.7/dist-packages/sklearn/linear_model/_logistic.py:940: ConvergenceWarning: lbfgs failed to converge (status=1):\n",
            "STOP: TOTAL NO. of ITERATIONS REACHED LIMIT.\n",
            "\n",
            "Increase the number of iterations (max_iter) or scale the data as shown in:\n",
            "    https://scikit-learn.org/stable/modules/preprocessing.html\n",
            "Please also refer to the documentation for alternative solver options:\n",
            "    https://scikit-learn.org/stable/modules/linear_model.html#logistic-regression\n",
            "  extra_warning_msg=_LOGISTIC_SOLVER_CONVERGENCE_MSG)\n"
          ],
          "name": "stderr"
        }
      ]
    },
    {
      "cell_type": "code",
      "metadata": {
        "colab": {
          "base_uri": "https://localhost:8080/"
        },
        "id": "txmdSrKXfuH-",
        "outputId": "0dcdfd83-707e-4c1c-c00f-5276307ec882"
      },
      "source": [
        "recall = rs(y_test,predictions)  \n",
        "precision = ps(y_test,predictions)  \n",
        "r1 = fs(y_test,predictions)\n",
        "score = acc(y_test,predictions)\n",
        "print('Recall Score: ',recall)  \n",
        "print('Precision Score: ',precision)  \n",
        "print('F1 Score: ',r1) \n",
        "print('Accuracy:',score)"
      ],
      "execution_count": 142,
      "outputs": [
        {
          "output_type": "stream",
          "text": [
            "Recall Score:  0.27816901408450706\n",
            "Precision Score:  0.2893772893772894\n",
            "F1 Score:  0.2836624775583483\n",
            "Accuracy: 0.7504690431519699\n"
          ],
          "name": "stdout"
        }
      ]
    },
    {
      "cell_type": "code",
      "metadata": {
        "colab": {
          "base_uri": "https://localhost:8080/"
        },
        "id": "kHppDRE4fyrj",
        "outputId": "59daedf8-2c37-4108-d907-9f081c1a6ec5"
      },
      "source": [
        "from sklearn.metrics import confusion_matrix\n",
        "tn, fp, fn, tp = confusion_matrix(y_test, predictions).ravel()\n",
        "specificity = tn / (tn+fp)\n",
        "sensitivity = tp / (tp+fn)\n",
        "print('Sensitivity: ',sensitivity)\n",
        "print('Specificity: ',specificity)\n",
        "print(tp)\n",
        "print(fp)"
      ],
      "execution_count": 143,
      "outputs": [
        {
          "output_type": "stream",
          "text": [
            "Sensitivity:  0.27816901408450706\n",
            "Specificity:  0.8524714828897338\n",
            "79\n",
            "194\n"
          ],
          "name": "stdout"
        }
      ]
    },
    {
      "cell_type": "code",
      "metadata": {
        "colab": {
          "base_uri": "https://localhost:8080/"
        },
        "id": "SMVs2eZAf4ov",
        "outputId": "402abd32-a1cf-4627-b47e-0244a98246ce"
      },
      "source": [
        "from sklearn.metrics import roc_auc_score\n",
        "y_pred_prob = nb.predict_proba(X_test_dtm)[:, 1]\n",
        "print(\"ROC_AOC_Score: \", roc_auc_score(y_test, y_pred_prob))"
      ],
      "execution_count": 144,
      "outputs": [
        {
          "output_type": "stream",
          "text": [
            "ROC_AOC_Score:  0.7313340116746105\n"
          ],
          "name": "stdout"
        }
      ]
    },
    {
      "cell_type": "code",
      "metadata": {
        "id": "JubvofQCf8zH"
      },
      "source": [
        "def plot_cm(labels, predictions, p=0.5):\n",
        "  cm = confusion_matrix(labels, predictions > p)\n",
        "  plt.figure(figsize=(5,5))\n",
        "  sns.heatmap(cm, annot=True, fmt=\"d\")\n",
        "  plt.title('Confusion matrix @{:.2f}'.format(p))\n",
        "  plt.ylabel('Actual label')\n",
        "  plt.xlabel('Predicted label')"
      ],
      "execution_count": 145,
      "outputs": []
    },
    {
      "cell_type": "code",
      "metadata": {
        "colab": {
          "base_uri": "https://localhost:8080/",
          "height": 350
        },
        "id": "1uVLd8cdf_Lw",
        "outputId": "c1a91e62-5a67-4cbf-d0f6-466191a3c987"
      },
      "source": [
        "plot_cm(y_test, y_pred_prob)"
      ],
      "execution_count": 146,
      "outputs": [
        {
          "output_type": "display_data",
          "data": {
            "image/png": "[encoded data removed]",
            "text/plain": [
              "<Figure size 360x360 with 2 Axes>"
            ]
          },
          "metadata": {
            "tags": [],
            "needs_background": "light"
          }
        }
      ]
    },
    {
      "cell_type": "code",
      "metadata": {
        "id": "vR_QR5e7gCIs"
      },
      "source": [
        ""
      ],
      "execution_count": null,
      "outputs": []
    }
  ]
}
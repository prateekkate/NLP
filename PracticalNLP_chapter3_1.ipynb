{
  "nbformat": 4,
  "nbformat_minor": 0,
  "metadata": {
    "colab": {
      "name": "PracticalNLP_chapter3_1.ipynb",
      "provenance": [],
      "authorship_tag": "ABX9TyMv/ZuNNkXFDQy0McG7mId7",
      "include_colab_link": true
    },
    "kernelspec": {
      "name": "python3",
      "display_name": "Python 3"
    },
    "language_info": {
      "name": "python"
    }
  },
  "cells": [
    {
      "cell_type": "markdown",
      "metadata": {
        "id": "view-in-github",
        "colab_type": "text"
      },
      "source": [
        "<a href=\"https://colab.research.google.com/github/prateekkate/NLP/blob/main/PracticalNLP_chapter3_1.ipynb\" target=\"_parent\"><img src=\"https://colab.research.google.com/assets/colab-badge.svg\" alt=\"Open In Colab\"/></a>"
      ]
    },
    {
      "cell_type": "markdown",
      "metadata": {
        "id": "HmgHWz95IHLG"
      },
      "source": [
        "#OneHot Encoding of text"
      ]
    },
    {
      "cell_type": "code",
      "metadata": {
        "id": "z3FFtCBHIRz4"
      },
      "source": [
        "documents = [\"Dog bites man.\", \"Man bites dog.\", \"Dog eats meat.\", \"Man eats food.\"]"
      ],
      "execution_count": null,
      "outputs": []
    },
    {
      "cell_type": "code",
      "metadata": {
        "colab": {
          "base_uri": "https://localhost:8080/"
        },
        "id": "dOwkXZIOIYad",
        "outputId": "c01a3e5d-2ad1-41ce-b425-e0a758a1221b"
      },
      "source": [
        "processed_docs = [docs.lower().replace(\".\",\"\") for docs in documents]\n",
        "processed_docs"
      ],
      "execution_count": null,
      "outputs": [
        {
          "output_type": "execute_result",
          "data": {
            "text/plain": [
              "['dog bites man', 'man bites dog', 'dog eats meat', 'man eats food']"
            ]
          },
          "metadata": {
            "tags": []
          },
          "execution_count": 2
        }
      ]
    },
    {
      "cell_type": "code",
      "metadata": {
        "colab": {
          "base_uri": "https://localhost:8080/"
        },
        "id": "NxyHeftNIxaH",
        "outputId": "b634e4f5-4f09-45dd-ccd4-00bfa98976dd"
      },
      "source": [
        "#creating a vocabulary\n",
        "vocab = {}\n",
        "count = 0\n",
        "for doc in processed_docs:\n",
        "  for word in doc.split():\n",
        "    if word not in vocab:\n",
        "      count = count + 1;\n",
        "      vocab[word] = count\n",
        "\n",
        "print(vocab)"
      ],
      "execution_count": null,
      "outputs": [
        {
          "output_type": "stream",
          "text": [
            "{'dog': 1, 'bites': 2, 'man': 3, 'eats': 4, 'meat': 5, 'food': 6}\n"
          ],
          "name": "stdout"
        }
      ]
    },
    {
      "cell_type": "code",
      "metadata": {
        "colab": {
          "base_uri": "https://localhost:8080/"
        },
        "id": "mFFBD2fTK0i7",
        "outputId": "9cc75d6a-3060-4d28-9668-d28b236ebc36"
      },
      "source": [
        "temp = [1]*len(vocab)\n",
        "temp"
      ],
      "execution_count": null,
      "outputs": [
        {
          "output_type": "execute_result",
          "data": {
            "text/plain": [
              "[1, 1, 1, 1, 1, 1]"
            ]
          },
          "metadata": {
            "tags": []
          },
          "execution_count": 9
        }
      ]
    },
    {
      "cell_type": "code",
      "metadata": {
        "colab": {
          "base_uri": "https://localhost:8080/"
        },
        "id": "J7A6R4smLriz",
        "outputId": "b6e9ca42-4691-4ee6-a642-268d9a5d7dea"
      },
      "source": [
        "vocab['dog']"
      ],
      "execution_count": null,
      "outputs": [
        {
          "output_type": "execute_result",
          "data": {
            "text/plain": [
              "1"
            ]
          },
          "metadata": {
            "tags": []
          },
          "execution_count": 10
        }
      ]
    },
    {
      "cell_type": "code",
      "metadata": {
        "id": "v0nfL9eIJWLT"
      },
      "source": [
        "#Get onehot represtation for any string based on this vocab\n",
        "def get_onehot_vector(s):\n",
        "  onehot_encoded = []\n",
        "  for word in s.split():\n",
        "    temp = [0]*len(vocab) #creating a vector of all 0's of vocab length\n",
        "    if word in vocab:\n",
        "      temp[vocab[word]-1] = 1\n",
        "    onehot_encoded.append(temp)  \n",
        "\n",
        "  return onehot_encoded "
      ],
      "execution_count": null,
      "outputs": []
    },
    {
      "cell_type": "code",
      "metadata": {
        "colab": {
          "base_uri": "https://localhost:8080/"
        },
        "id": "1KTGRLAzL7oi",
        "outputId": "73141330-71ce-4774-e04d-da500814b7b8"
      },
      "source": [
        "print(processed_docs[1])\n",
        "get_onehot_vector(processed_docs[1]) #one hot representation for a text from our corpus."
      ],
      "execution_count": null,
      "outputs": [
        {
          "output_type": "stream",
          "text": [
            "man bites dog\n"
          ],
          "name": "stdout"
        },
        {
          "output_type": "execute_result",
          "data": {
            "text/plain": [
              "[[0, 0, 1, 0, 0, 0], [0, 1, 0, 0, 0, 0], [1, 0, 0, 0, 0, 0]]"
            ]
          },
          "metadata": {
            "tags": []
          },
          "execution_count": 12
        }
      ]
    },
    {
      "cell_type": "code",
      "metadata": {
        "colab": {
          "base_uri": "https://localhost:8080/"
        },
        "id": "itxKtYZZL-D9",
        "outputId": "166c499a-abeb-42bb-f53e-c0b8998b3051"
      },
      "source": [
        "get_onehot_vector(\"i love dog\")"
      ],
      "execution_count": null,
      "outputs": [
        {
          "output_type": "execute_result",
          "data": {
            "text/plain": [
              "[[0, 0, 0, 0, 0, 0], [0, 0, 0, 0, 0, 0], [1, 0, 0, 0, 0, 0]]"
            ]
          },
          "metadata": {
            "tags": []
          },
          "execution_count": 13
        }
      ]
    },
    {
      "cell_type": "markdown",
      "metadata": {
        "id": "2UkDvwymMUrN"
      },
      "source": [
        "#OneHot Encoding using Sklearn"
      ]
    },
    {
      "cell_type": "code",
      "metadata": {
        "id": "KCDGoOX1MYDD"
      },
      "source": [
        "S1 = 'dog bites man'\n",
        "S2 = 'man bites dog'\n",
        "S3 = 'dog eats meat'\n",
        "S4 = 'man eats food'"
      ],
      "execution_count": null,
      "outputs": []
    },
    {
      "cell_type": "code",
      "metadata": {
        "id": "swo5ggvTNngc"
      },
      "source": [
        "from sklearn.preprocessing import OneHotEncoder, LabelEncoder"
      ],
      "execution_count": null,
      "outputs": []
    },
    {
      "cell_type": "code",
      "metadata": {
        "id": "V0kJFvGbNu8w"
      },
      "source": [
        "data = [S1.split(), S2.split(), S3.split(), S4.split()]"
      ],
      "execution_count": null,
      "outputs": []
    },
    {
      "cell_type": "code",
      "metadata": {
        "id": "_bG2GD-GPIYk",
        "colab": {
          "base_uri": "https://localhost:8080/"
        },
        "outputId": "7655754c-a91c-4cdd-c8fc-46cced436c9f"
      },
      "source": [
        "data"
      ],
      "execution_count": null,
      "outputs": [
        {
          "output_type": "execute_result",
          "data": {
            "text/plain": [
              "[['dog', 'bites', 'man'],\n",
              " ['man', 'bites', 'dog'],\n",
              " ['dog', 'eats', 'meat'],\n",
              " ['man', 'eats', 'food']]"
            ]
          },
          "metadata": {
            "tags": []
          },
          "execution_count": 27
        }
      ]
    },
    {
      "cell_type": "code",
      "metadata": {
        "colab": {
          "base_uri": "https://localhost:8080/"
        },
        "id": "tTF1Yb1pN6cJ",
        "outputId": "b0daf0e6-8399-48d9-cc05-08bab44796d0"
      },
      "source": [
        "values = data[0]+data[1]+data[2]+data[3]\n",
        "print(\"data:\",values)"
      ],
      "execution_count": null,
      "outputs": [
        {
          "output_type": "stream",
          "text": [
            "data: ['dog', 'bites', 'man', 'man', 'bites', 'dog', 'dog', 'eats', 'meat', 'man', 'eats', 'food']\n"
          ],
          "name": "stdout"
        }
      ]
    },
    {
      "cell_type": "code",
      "metadata": {
        "colab": {
          "base_uri": "https://localhost:8080/"
        },
        "id": "omru44oLN7Go",
        "outputId": "3f679f68-16c8-4639-ffd8-972f0c1b040b"
      },
      "source": [
        "#label encoder\n",
        "label = LabelEncoder()\n",
        "label_encoded_data = label.fit_transform(values)\n",
        "print(\"Label Encoding: \",label_encoded_data)"
      ],
      "execution_count": null,
      "outputs": [
        {
          "output_type": "stream",
          "text": [
            "Label Encoding:  [1 0 4 4 0 1 1 2 5 4 2 3]\n"
          ],
          "name": "stdout"
        }
      ]
    },
    {
      "cell_type": "code",
      "metadata": {
        "colab": {
          "base_uri": "https://localhost:8080/"
        },
        "id": "uBbaJSOwOYlv",
        "outputId": "b570e577-b1e7-4a95-d9b3-55e147dfe6be"
      },
      "source": [
        "#onehot\n",
        "hot = OneHotEncoder()\n",
        "hot_encoding = hot.fit_transform(data).toarray()\n",
        "print(\"One Hot Vector :\\n\",hot_encoding)"
      ],
      "execution_count": null,
      "outputs": [
        {
          "output_type": "stream",
          "text": [
            "One Hot Vector :\n",
            " [[1. 0. 1. 0. 0. 0. 1. 0.]\n",
            " [0. 1. 1. 0. 1. 0. 0. 0.]\n",
            " [1. 0. 0. 1. 0. 0. 0. 1.]\n",
            " [0. 1. 0. 1. 0. 1. 0. 0.]]\n"
          ],
          "name": "stdout"
        }
      ]
    },
    {
      "cell_type": "code",
      "metadata": {
        "id": "KqJIBNvsOt9T"
      },
      "source": [
        ""
      ],
      "execution_count": null,
      "outputs": []
    }
  ]
}